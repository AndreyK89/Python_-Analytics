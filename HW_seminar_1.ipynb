{
 "cells": [
  {
   "cell_type": "markdown",
   "id": "27519b5e",
   "metadata": {},
   "source": [
    "## Задача 1:\n",
    "На складе лежат разные фрукты в разном количестве.  \n",
    "Нужно написать функцию, которая на вход принимает любое количество названий фруктов и их количество,  \n",
    "а возвращает общее количество фруктов на складе, при помощи использования kwargs."
   ]
  },
  {
   "cell_type": "code",
   "execution_count": 1,
   "id": "6a78c660",
   "metadata": {},
   "outputs": [],
   "source": [
    "def sum_fruits (**kwargs):\n",
    "    summa=0\n",
    "    for i in kwargs.values():\n",
    "        summa+=i\n",
    "    return (f'Общее количество фруктов: {summa}')"
   ]
  },
  {
   "cell_type": "code",
   "execution_count": 4,
   "id": "3a89469a",
   "metadata": {},
   "outputs": [
    {
     "data": {
      "text/plain": [
       "'Общее количество фруктов: 65'"
      ]
     },
     "execution_count": 4,
     "metadata": {},
     "output_type": "execute_result"
    }
   ],
   "source": [
    "sum_fruits(mango=5, apple=20, banana=30, lemon=10)"
   ]
  },
  {
   "cell_type": "markdown",
   "id": "6ee449eb",
   "metadata": {},
   "source": [
    "## Задача 2:  \n",
    "Дан список с затратами на рекламу. Но в данных есть ошибки, некоторые затраты имеют отрицательную величину.  \n",
    "Удалите такие значения из списка и посчитайте суммарные затраты. Используйте list comprehensions.  \n",
    "[100, 125, -90, 345, 655, -1, 0, 200]"
   ]
  },
  {
   "cell_type": "code",
   "execution_count": 8,
   "id": "7bd607cd",
   "metadata": {},
   "outputs": [
    {
     "name": "stdout",
     "output_type": "stream",
     "text": [
      "[100, 125, 345, 655, 0, 200]\n",
      "1425\n"
     ]
    }
   ],
   "source": [
    "expenses = [100, 125, -90, 345, 655, -1, 0, 200]\n",
    "for i in expenses:\n",
    "    if i < 0:\n",
    "        expenses.remove(i)\n",
    "print(expenses)\n",
    "print(sum(expenses))"
   ]
  },
  {
   "cell_type": "code",
   "execution_count": 9,
   "id": "728026d7",
   "metadata": {},
   "outputs": [
    {
     "data": {
      "text/plain": [
       "1425"
      ]
     },
     "execution_count": 9,
     "metadata": {},
     "output_type": "execute_result"
    }
   ],
   "source": [
    "expenses = [100, 125, -90, 345, 655, -1, 0, 200]\n",
    "result = sum([i for i in expenses if i > 0])\n",
    "result"
   ]
  },
  {
   "cell_type": "markdown",
   "id": "3c6a1701",
   "metadata": {},
   "source": [
    "## Задача 3:  \n",
    "Даны два списка:  \n",
    "Дата покупки.  \n",
    "['2021-09-14', '2021-12-15', '2021-09-08', '2021-12-05', '2021-10-09', '2021-09-30', '2021-12-22', '2021-11-29', '2021-12-24', '2021-11-26', '2021-10-27', '2021-12-18', '2021-11-09', '2021-11-23', '2021-09-27', '2021-10-02', '2021-12-27', '2021-09-20', '2021-12-13', '2021-11-01', '2021-11-09', '2021-12-06', '2021-12-08', '2021-10-09', '2021-10-31', '2021-09-30', '2021-11-09', '2021-12-13', '2021-10-26', '2021-12-09']  \n",
    "Суммы покупок по датам.  \n",
    "[1270, 8413, 9028, 3703, 5739, 4095, 295, 4944, 5723, 3701, 4471, 651, 7037, 4274, 6275,  \n",
    "4988, 6930, 2971, 6592, 2004, 2822, 519, 3406, 2732, 5015, 2008, 316, 6333, 5700, 2887]"
   ]
  },
  {
   "cell_type": "markdown",
   "id": "f6113c13",
   "metadata": {},
   "source": [
    "### Условие 3.1  \n",
    "Найдите, какая выручка у компании в ноябре. Используйте list comprehensions."
   ]
  },
  {
   "cell_type": "code",
   "execution_count": 14,
   "id": "c835baaa",
   "metadata": {},
   "outputs": [],
   "source": [
    "dates = ['2021-09-14', '2021-12-15', '2021-09-08', '2021-12-05', '2021-10-09', '2021-09-30', '2021-12-22', '2021-11-29', '2021-12-24', '2021-11-26', '2021-10-27', '2021-12-18', '2021-11-09', '2021-11-23', '2021-09-27', '2021-10-02', '2021-12-27', '2021-09-20', '2021-12-13', '2021-11-01', '2021-11-09', '2021-12-06', '2021-12-08', '2021-10-09', '2021-10-31', '2021-09-30', '2021-11-09', '2021-12-13', '2021-10-26', '2021-12-09']\n",
    "incomes = [1270, 8413, 9028, 3703, 5739, 4095, 295, 4944, 5723, 3701, 4471, 651, 7037, 4274, 6275, 4988, 6930, 2971, 6592, 2004, 2822, 519, 3406, 2732, 5015, 2008, 316, 6333, 5700, 2887]"
   ]
  },
  {
   "cell_type": "code",
   "execution_count": 15,
   "id": "4785034f",
   "metadata": {},
   "outputs": [
    {
     "data": {
      "text/plain": [
       "'Общая выручка у компании в ноябре = 25098'"
      ]
     },
     "execution_count": 15,
     "metadata": {},
     "output_type": "execute_result"
    }
   ],
   "source": [
    "result = sum([incomes[i] for i in range(len(dates)) if dates[i].split('-')[1]=='11'])\n",
    "f'Общая выручка у компании в ноябре = {result}'"
   ]
  },
  {
   "cell_type": "markdown",
   "id": "d2bfcca4",
   "metadata": {},
   "source": [
    "### Условие 3.2  \n",
    "Найдите выручку компании в зависимости от месяца.  \n",
    "Для этого напишите функцию, которая на вход принимает список с датами и список с выручкой,  \n",
    "а на выходе словарь, где ключи - это месяцы, а значения - это выручка.  \n",
    "Используйте аннотирование типов."
   ]
  },
  {
   "cell_type": "code",
   "execution_count": 21,
   "id": "7d335b63",
   "metadata": {},
   "outputs": [],
   "source": [
    "def income_in_month(dates=list, incomes=list) -> dict:\n",
    "    revenue_by_months={}\n",
    "    \n",
    "    for i in range(len(dates)):\n",
    "        month=dates[i].split('-')[1]\n",
    "        if month in revenue_by_months:\n",
    "            revenue_by_months[month]+=incomes[i]\n",
    "        else:\n",
    "            revenue_by_months[month]=incomes[i]\n",
    "    return revenue_by_months"
   ]
  },
  {
   "cell_type": "code",
   "execution_count": 24,
   "id": "911ec0c9",
   "metadata": {},
   "outputs": [
    {
     "data": {
      "text/plain": [
       "{'09': 25647, '12': 45452, '10': 28645, '11': 25098}"
      ]
     },
     "execution_count": 24,
     "metadata": {},
     "output_type": "execute_result"
    }
   ],
   "source": [
    "income_in_month(dates,incomes)"
   ]
  }
 ],
 "metadata": {
  "kernelspec": {
   "display_name": "Python 3 (ipykernel)",
   "language": "python",
   "name": "python3"
  },
  "language_info": {
   "codemirror_mode": {
    "name": "ipython",
    "version": 3
   },
   "file_extension": ".py",
   "mimetype": "text/x-python",
   "name": "python",
   "nbconvert_exporter": "python",
   "pygments_lexer": "ipython3",
   "version": "3.9.13"
  }
 },
 "nbformat": 4,
 "nbformat_minor": 5
}
